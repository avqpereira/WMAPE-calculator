{
 "cells": [
  {
   "cell_type": "markdown",
   "metadata": {},
   "source": [
    "# Imports"
   ]
  },
  {
   "cell_type": "code",
   "execution_count": 1,
   "metadata": {},
   "outputs": [],
   "source": [
    "import pandas as pd"
   ]
  },
  {
   "cell_type": "markdown",
   "metadata": {},
   "source": [
    "# Defining a handy function"
   ]
  },
  {
   "cell_type": "code",
   "execution_count": 2,
   "metadata": {},
   "outputs": [],
   "source": [
    "def TransformColumns(df):\n",
    "    \"\"\"Replaces the spaces with underlines and converts to lowecase the column names of a given DataFrame `df`.\n",
    "    \n",
    "    Parameters\n",
    "    ----------\n",
    "    df : DataFrame with messy column names\n",
    "    \n",
    "    Returns\n",
    "    -------\n",
    "    None\n",
    "    \n",
    "    Raises\n",
    "    ------\n",
    "    AssertionError\n",
    "        * If `df` is not a ``pandas.DataFrame``.\n",
    "    \"\"\"\n",
    "    \n",
    "    try:\n",
    "        assert type(df) is pd.core.frame.DataFrame, \"Invalid input. Must be a DataFrame.\"\n",
    "        df.columns = [c.lower().replace(' ', '_') for c in df.columns]\n",
    "        return None\n",
    "    except AssertionError as msg:\n",
    "        print(msg)\n",
    "        return None"
   ]
  },
  {
   "cell_type": "markdown",
   "metadata": {},
   "source": [
    "# Implementing solution"
   ]
  },
  {
   "cell_type": "markdown",
   "metadata": {},
   "source": [
    "### Declaring variables"
   ]
  },
  {
   "cell_type": "code",
   "execution_count": 3,
   "metadata": {},
   "outputs": [],
   "source": [
    "dictMeses = {1: 'jan', 2:'fev', 3:'mar', 4:'abr', 5:'mai', 6:'jun', 7:'jul', 8:'ago', 9:'set', 10:'out', 11:'nov', 12:'dez'}"
   ]
  },
  {
   "cell_type": "markdown",
   "metadata": {},
   "source": [
    "### Importing and preparing DataFrames"
   ]
  },
  {
   "cell_type": "markdown",
   "metadata": {},
   "source": [
    "Here all DataFrames used in this solution are imported and transformed with the previously declared function TransformColumns. They are namely: <br>\n",
    "- dfGroupAnalyst: A list of analysts to which each product group is assigned;\n",
    "- dfProd: A product log, with basic infos about all the registered products;\n",
    "- dfSales: The sales from last twelve months for each product;\n",
    "- dfForecast1 - dfForecast8: The sales forecasted by the analysts from january/2019 to july/2019, separated in 7 different Dataframes\n",
    "- dfDisregard: A list of products that should be disregarded from the calculation due to business decisions."
   ]
  },
  {
   "cell_type": "code",
   "execution_count": 4,
   "metadata": {},
   "outputs": [],
   "source": [
    "dfGroupAnalyst = pd.read_excel('./Inputs/0_Group per analyst.xls')\n",
    "dfProd = pd.read_excel('./Inputs/1_Products.xls', sheet_name='Plan1', usecols='A, C:D')\n",
    "dfSales = pd.read_excel('./Inputs/2_SALES.xlsx')\n",
    "dfForecast1 = pd.read_excel('./Inputs/3_FORECASTS.xlsx', sheet_name=dictMeses[1])\n",
    "dfForecast2 = pd.read_excel('./Inputs/3_FORECASTS.xlsx', sheet_name=dictMeses[2])\n",
    "dfForecast3 = pd.read_excel('./Inputs/3_FORECASTS.xlsx', sheet_name=dictMeses[3])\n",
    "dfForecast4 = pd.read_excel('./Inputs/3_FORECASTS.xlsx', sheet_name=dictMeses[4])\n",
    "dfForecast5 = pd.read_excel('./Inputs/3_FORECASTS.xlsx', sheet_name=dictMeses[5])\n",
    "dfForecast6 = pd.read_excel('./Inputs/3_FORECASTS.xlsx', sheet_name=dictMeses[6])\n",
    "dfForecast7 = pd.read_excel('./Inputs/3_FORECASTS.xlsx', sheet_name=dictMeses[7])\n",
    "dfDisregard = pd.read_excel('./Inputs/4_DISREGARD.xlsx', sheet_name='Disregard')\n",
    "\n",
    "TransformColumns(dfGroupAnalyst)\n",
    "TransformColumns(dfProd)\n",
    "TransformColumns(dfSales)"
   ]
  },
  {
   "cell_type": "markdown",
   "metadata": {},
   "source": [
    "From our Sales Dataframe (dfSales), let's filter out all products sold that have been discontinued and that are unavailabe with no reorder, as well as all products where 'griffe' is different than brands B and C."
   ]
  },
  {
   "cell_type": "code",
   "execution_count": 5,
   "metadata": {},
   "outputs": [],
   "source": [
    "dfSales = dfSales.loc[dfSales.griffe != 'Brand B']\n",
    "dfSales = dfSales.loc[dfSales.griffe != 'Brand C']\n",
    "\n",
    "dfSales = dfSales.loc[dfSales.linha != 'DISCONTINUED']\n",
    "dfSales = dfSales.loc[dfSales.linha != 'UNAVAILABLE - NO REORDER']"
   ]
  },
  {
   "cell_type": "markdown",
   "metadata": {},
   "source": [
    "### Handling the Dataframes and calculating the MAPE"
   ]
  },
  {
   "cell_type": "markdown",
   "metadata": {},
   "source": [
    "Let's now merge the dfProd, dfGroupAnalyst and dfSales Dataframes in order to have all the infos in one place."
   ]
  },
  {
   "cell_type": "code",
   "execution_count": 6,
   "metadata": {},
   "outputs": [],
   "source": [
    "dfMAPE = dfProd.merge(dfGroupAnalyst, on='grupo_produto', how='left')\n",
    "dfMAPE = dfSales.merge(dfMAPE, left_on='produto',  right_on='produto', how='left')"
   ]
  },
  {
   "cell_type": "markdown",
   "metadata": {},
   "source": [
    "In order to merge the infos presented at the 7 forecast DataFrames, let's first iterate through them and append the infos to an auxiliary DataFrame (dfAux). Then, we will merge dfAux to dfMAPE in order to achieve the wanted DataFrame."
   ]
  },
  {
   "cell_type": "code",
   "execution_count": 8,
   "metadata": {},
   "outputs": [],
   "source": [
    "dfAux = pd.DataFrame()\n",
    "\n",
    "ForecastList = [dfForecast1, dfForecast2, dfForecast3, dfForecast4, dfForecast5, dfForecast6, dfForecast7]\n",
    "\n",
    "for x in range(0,7):\n",
    "    dfWorked = ForecastList[x]\n",
    "    dfWorked = dfWorked.melt(id_vars=\"produto\", value_vars=list(dfWorked.columns)[-1], var_name='mes', value_name='dfu')\n",
    "    dfWorked.mes = dfWorked.mes.astype(int)\n",
    "    dfAux = dfAux.append(dfWorked)\n",
    "\n",
    "dfMAPE = dfMAPE.merge(dfAux, left_on=['produto', 'mes'], right_on=['produto', 'mes'], how='left')"
   ]
  },
  {
   "cell_type": "markdown",
   "metadata": {},
   "source": [
    "To complete the infos, let´s disregard the procuts in the sales months presented on dfDisregard, and then calculate the MAPE for every product in every month."
   ]
  },
  {
   "cell_type": "code",
   "execution_count": 9,
   "metadata": {},
   "outputs": [],
   "source": [
    "dfDisregard['check'] = 1\n",
    "dfMAPE = dfMAPE.merge(dfDisregard, left_on=['produto', 'mes'], right_on=['produto', 'mes'], how='left')\n",
    "dfMAPE = dfMAPE.loc[dfMAPE.check != 1]\n",
    "\n",
    "cols = ['produto',  'desc_produto', 'grupo_produto', 'subgrupo_produto', 'analista', 'linha', 'mes', 'dfu', \n",
    "        'qtde_vendida', 'qtde_x_preco',  'mape']\n",
    "\n",
    "dfMAPE['mape'] = ((dfMAPE['qtde_vendida'] - dfMAPE['dfu'])/dfMAPE['qtde_vendida'])\n",
    "dfMAPE = dfMAPE[cols]"
   ]
  },
  {
   "cell_type": "markdown",
   "metadata": {},
   "source": [
    "### Calculating WMAPE"
   ]
  },
  {
   "cell_type": "markdown",
   "metadata": {},
   "source": [
    "In order to measure the impact of each prediction error (WMAPE), let's add 3 columns to dfMAPE:\n",
    "- Percentage per month\n",
    "- Percentage per month and analyst\n",
    "- Percentage per month and group\n",
    "\n",
    "After that, the Weighed MAPE can be calculated for each case."
   ]
  },
  {
   "cell_type": "markdown",
   "metadata": {},
   "source": [
    "Adding columns for WMAPE per month:"
   ]
  },
  {
   "cell_type": "code",
   "execution_count": 10,
   "metadata": {},
   "outputs": [],
   "source": [
    "df = dfMAPE[['mes', 'qtde_x_preco']].groupby(by='mes').sum()\n",
    "df.reset_index(inplace=True)\n",
    "df.rename(columns={'qtde_x_preco': 'total'}, inplace=True)\n",
    "\n",
    "dfMAPE = dfMAPE.merge(df, left_on='mes', right_on='mes', how='left')\n",
    "dfMAPE['part_mes'] = dfMAPE['qtde_x_preco'] / dfMAPE['total']\n",
    "dfMAPE.drop(columns='total', inplace=True)\n",
    "\n",
    "dfMAPE['wmape_mes'] = abs(dfMAPE['mape']) * dfMAPE['part_mes']"
   ]
  },
  {
   "cell_type": "markdown",
   "metadata": {},
   "source": [
    "Adding columns for WMAPE per month and analyst:"
   ]
  },
  {
   "cell_type": "code",
   "execution_count": 11,
   "metadata": {},
   "outputs": [],
   "source": [
    "df = dfMAPE[['mes', 'analista', 'qtde_x_preco']].groupby(by=['mes', 'analista']).sum()\n",
    "df.reset_index(inplace=True)\n",
    "df.rename(columns={'qtde_x_preco': 'total'}, inplace=True)\n",
    "\n",
    "dfMAPE = dfMAPE.merge(df, left_on=['mes', 'analista'], right_on=['mes', 'analista'], how='left')\n",
    "dfMAPE['part_mes_analista'] = dfMAPE['qtde_x_preco'] / dfMAPE['total']\n",
    "dfMAPE.drop(columns='total', inplace=True)\n",
    "\n",
    "dfMAPE['wmape_mes_analista'] = abs(dfMAPE['mape']) * dfMAPE['part_mes_analista']"
   ]
  },
  {
   "cell_type": "markdown",
   "metadata": {},
   "source": [
    "Adding columns for WMAPE per month and group:"
   ]
  },
  {
   "cell_type": "code",
   "execution_count": 12,
   "metadata": {},
   "outputs": [],
   "source": [
    "df = dfMAPE[['mes', 'grupo_produto', 'qtde_x_preco']].groupby(by=['mes', 'grupo_produto']).sum()\n",
    "df.reset_index(inplace=True)\n",
    "df.rename(columns={'qtde_x_preco': 'total'}, inplace=True)\n",
    "\n",
    "dfMAPE = dfMAPE.merge(df, left_on=['mes', 'grupo_produto'], right_on=['mes', 'grupo_produto'], how='left')\n",
    "dfMAPE['part_mes_grupo_produto'] = dfMAPE['qtde_x_preco'] / dfMAPE['total']\n",
    "dfMAPE.drop(columns='total', inplace=True)\n",
    "\n",
    "dfMAPE['wmape_mes_grupo_produto'] = abs(dfMAPE['mape']) * dfMAPE['part_mes_grupo_produto']"
   ]
  },
  {
   "cell_type": "markdown",
   "metadata": {},
   "source": [
    "# Creating the final DataFrames and exporting the files"
   ]
  },
  {
   "cell_type": "code",
   "execution_count": 15,
   "metadata": {
    "collapsed": true
   },
   "outputs": [
    {
     "ename": "FileCreateError",
     "evalue": "[Errno 13] Permission denied: 'WMAPE Calculado.xlsx'",
     "output_type": "error",
     "traceback": [
      "\u001b[1;31m---------------------------------------------------------------------------\u001b[0m",
      "\u001b[1;31mPermissionError\u001b[0m                           Traceback (most recent call last)",
      "\u001b[1;32mC:\\ProgramData\\Anaconda3\\lib\\site-packages\\xlsxwriter\\workbook.py\u001b[0m in \u001b[0;36mclose\u001b[1;34m(self)\u001b[0m\n\u001b[0;32m    310\u001b[0m             \u001b[1;32mtry\u001b[0m\u001b[1;33m:\u001b[0m\u001b[1;33m\u001b[0m\u001b[1;33m\u001b[0m\u001b[0m\n\u001b[1;32m--> 311\u001b[1;33m                 \u001b[0mself\u001b[0m\u001b[1;33m.\u001b[0m\u001b[0m_store_workbook\u001b[0m\u001b[1;33m(\u001b[0m\u001b[1;33m)\u001b[0m\u001b[1;33m\u001b[0m\u001b[1;33m\u001b[0m\u001b[0m\n\u001b[0m\u001b[0;32m    312\u001b[0m             \u001b[1;32mexcept\u001b[0m \u001b[0mIOError\u001b[0m \u001b[1;32mas\u001b[0m \u001b[0me\u001b[0m\u001b[1;33m:\u001b[0m\u001b[1;33m\u001b[0m\u001b[1;33m\u001b[0m\u001b[0m\n",
      "\u001b[1;32mC:\\ProgramData\\Anaconda3\\lib\\site-packages\\xlsxwriter\\workbook.py\u001b[0m in \u001b[0;36m_store_workbook\u001b[1;34m(self)\u001b[0m\n\u001b[0;32m    626\u001b[0m         \u001b[1;32mexcept\u001b[0m \u001b[0mIOError\u001b[0m \u001b[1;32mas\u001b[0m \u001b[0me\u001b[0m\u001b[1;33m:\u001b[0m\u001b[1;33m\u001b[0m\u001b[1;33m\u001b[0m\u001b[0m\n\u001b[1;32m--> 627\u001b[1;33m             \u001b[1;32mraise\u001b[0m \u001b[0me\u001b[0m\u001b[1;33m\u001b[0m\u001b[1;33m\u001b[0m\u001b[0m\n\u001b[0m\u001b[0;32m    628\u001b[0m \u001b[1;33m\u001b[0m\u001b[0m\n",
      "\u001b[1;32mC:\\ProgramData\\Anaconda3\\lib\\site-packages\\xlsxwriter\\workbook.py\u001b[0m in \u001b[0;36m_store_workbook\u001b[1;34m(self)\u001b[0m\n\u001b[0;32m    624\u001b[0m             xlsx_file = ZipFile(self.filename, \"w\", compression=ZIP_DEFLATED,\n\u001b[1;32m--> 625\u001b[1;33m                                 allowZip64=self.allow_zip64)\n\u001b[0m\u001b[0;32m    626\u001b[0m         \u001b[1;32mexcept\u001b[0m \u001b[0mIOError\u001b[0m \u001b[1;32mas\u001b[0m \u001b[0me\u001b[0m\u001b[1;33m:\u001b[0m\u001b[1;33m\u001b[0m\u001b[1;33m\u001b[0m\u001b[0m\n",
      "\u001b[1;32mC:\\ProgramData\\Anaconda3\\lib\\zipfile.py\u001b[0m in \u001b[0;36m__init__\u001b[1;34m(self, file, mode, compression, allowZip64, compresslevel)\u001b[0m\n\u001b[0;32m   1206\u001b[0m                 \u001b[1;32mtry\u001b[0m\u001b[1;33m:\u001b[0m\u001b[1;33m\u001b[0m\u001b[1;33m\u001b[0m\u001b[0m\n\u001b[1;32m-> 1207\u001b[1;33m                     \u001b[0mself\u001b[0m\u001b[1;33m.\u001b[0m\u001b[0mfp\u001b[0m \u001b[1;33m=\u001b[0m \u001b[0mio\u001b[0m\u001b[1;33m.\u001b[0m\u001b[0mopen\u001b[0m\u001b[1;33m(\u001b[0m\u001b[0mfile\u001b[0m\u001b[1;33m,\u001b[0m \u001b[0mfilemode\u001b[0m\u001b[1;33m)\u001b[0m\u001b[1;33m\u001b[0m\u001b[1;33m\u001b[0m\u001b[0m\n\u001b[0m\u001b[0;32m   1208\u001b[0m                 \u001b[1;32mexcept\u001b[0m \u001b[0mOSError\u001b[0m\u001b[1;33m:\u001b[0m\u001b[1;33m\u001b[0m\u001b[1;33m\u001b[0m\u001b[0m\n",
      "\u001b[1;31mPermissionError\u001b[0m: [Errno 13] Permission denied: 'WMAPE Calculado.xlsx'",
      "\nDuring handling of the above exception, another exception occurred:\n",
      "\u001b[1;31mFileCreateError\u001b[0m                           Traceback (most recent call last)",
      "\u001b[1;32m<ipython-input-15-c04c1bdf8382>\u001b[0m in \u001b[0;36m<module>\u001b[1;34m\u001b[0m\n\u001b[0;32m     27\u001b[0m \u001b[1;33m\u001b[0m\u001b[0m\n\u001b[0;32m     28\u001b[0m \u001b[1;31m# Close the Pandas Excel writer and output the Excel file.\u001b[0m\u001b[1;33m\u001b[0m\u001b[1;33m\u001b[0m\u001b[1;33m\u001b[0m\u001b[0m\n\u001b[1;32m---> 29\u001b[1;33m \u001b[0mwriter\u001b[0m\u001b[1;33m.\u001b[0m\u001b[0msave\u001b[0m\u001b[1;33m(\u001b[0m\u001b[1;33m)\u001b[0m\u001b[1;33m\u001b[0m\u001b[1;33m\u001b[0m\u001b[0m\n\u001b[0m",
      "\u001b[1;32mC:\\ProgramData\\Anaconda3\\lib\\site-packages\\pandas\\io\\excel\\_xlsxwriter.py\u001b[0m in \u001b[0;36msave\u001b[1;34m(self)\u001b[0m\n\u001b[0;32m    193\u001b[0m         \"\"\"\n\u001b[0;32m    194\u001b[0m \u001b[1;33m\u001b[0m\u001b[0m\n\u001b[1;32m--> 195\u001b[1;33m         \u001b[1;32mreturn\u001b[0m \u001b[0mself\u001b[0m\u001b[1;33m.\u001b[0m\u001b[0mbook\u001b[0m\u001b[1;33m.\u001b[0m\u001b[0mclose\u001b[0m\u001b[1;33m(\u001b[0m\u001b[1;33m)\u001b[0m\u001b[1;33m\u001b[0m\u001b[1;33m\u001b[0m\u001b[0m\n\u001b[0m\u001b[0;32m    196\u001b[0m \u001b[1;33m\u001b[0m\u001b[0m\n\u001b[0;32m    197\u001b[0m     def write_cells(\n",
      "\u001b[1;32mC:\\ProgramData\\Anaconda3\\lib\\site-packages\\xlsxwriter\\workbook.py\u001b[0m in \u001b[0;36mclose\u001b[1;34m(self)\u001b[0m\n\u001b[0;32m    311\u001b[0m                 \u001b[0mself\u001b[0m\u001b[1;33m.\u001b[0m\u001b[0m_store_workbook\u001b[0m\u001b[1;33m(\u001b[0m\u001b[1;33m)\u001b[0m\u001b[1;33m\u001b[0m\u001b[1;33m\u001b[0m\u001b[0m\n\u001b[0;32m    312\u001b[0m             \u001b[1;32mexcept\u001b[0m \u001b[0mIOError\u001b[0m \u001b[1;32mas\u001b[0m \u001b[0me\u001b[0m\u001b[1;33m:\u001b[0m\u001b[1;33m\u001b[0m\u001b[1;33m\u001b[0m\u001b[0m\n\u001b[1;32m--> 313\u001b[1;33m                 \u001b[1;32mraise\u001b[0m \u001b[0mFileCreateError\u001b[0m\u001b[1;33m(\u001b[0m\u001b[0me\u001b[0m\u001b[1;33m)\u001b[0m\u001b[1;33m\u001b[0m\u001b[1;33m\u001b[0m\u001b[0m\n\u001b[0m\u001b[0;32m    314\u001b[0m             \u001b[1;32mexcept\u001b[0m \u001b[0mLargeZipFile\u001b[0m \u001b[1;32mas\u001b[0m \u001b[0me\u001b[0m\u001b[1;33m:\u001b[0m\u001b[1;33m\u001b[0m\u001b[1;33m\u001b[0m\u001b[0m\n\u001b[0;32m    315\u001b[0m                 raise FileSizeError(\"Filesize would require ZIP64 extensions. \"\n",
      "\u001b[1;31mFileCreateError\u001b[0m: [Errno 13] Permission denied: 'WMAPE Calculado.xlsx'"
     ]
    }
   ],
   "source": [
    "writer = pd.ExcelWriter('WMAPE Calculado.xlsx', engine='xlsxwriter')\n",
    "\n",
    "# Write each dataframe to a different worksheet.\n",
    "dfMAPE.to_excel(writer, sheet_name='Base', index=False)\n",
    "\n",
    "#WMAPE per month\n",
    "df = dfMAPE[['mes', 'wmape_mes']].groupby(by=['mes']).sum()\n",
    "df.to_excel(writer, sheet_name='WMAPE mensal total')\n",
    "\n",
    "#WMAPE per month and analyst\n",
    "df = dfMAPE[['mes', 'analista', 'wmape_mes_analista']].groupby(by=['mes', 'analista']).sum()\n",
    "df.to_excel(writer, sheet_name='WMAPE mensal-analista')\n",
    "\n",
    "#WMAPE per month and group\n",
    "df = dfMAPE[['mes', 'grupo_produto', 'wmape_mes_grupo_produto']].groupby(by=['mes', 'grupo_produto']).sum()\n",
    "df.to_excel(writer, sheet_name='WMAPE mensal-grupo')\n",
    "\n",
    "#Evolution of forecast accuracy for the first analyst\n",
    "df = dfMAPE.loc[dfMAPE.analista == \"Analyst #1\"].pivot_table(values=\"wmape_mes_analista\", index=\"grupo_produto\", \n",
    "                                                       columns=\"mes\", aggfunc='sum')\n",
    "df.to_excel(writer, sheet_name='Evolution Analyst #1')\n",
    "\n",
    "#Evolution of forecast accuracy for the second analyst\n",
    "df = dfMAPE.loc[dfMAPE.analista == \"Analyst #2\"].pivot_table(values=\"wmape_mes_analista\", index=\"grupo_produto\", \n",
    "                                                      columns=\"mes\", aggfunc='sum')\n",
    "df.to_excel(writer, sheet_name='Evolution Analyst #2')\n",
    "\n",
    "# Close the Pandas Excel writer and output the Excel file.\n",
    "writer.save()"
   ]
  }
 ],
 "metadata": {
  "kernelspec": {
   "display_name": "Python 3",
   "language": "python",
   "name": "python3"
  },
  "language_info": {
   "codemirror_mode": {
    "name": "ipython",
    "version": 3
   },
   "file_extension": ".py",
   "mimetype": "text/x-python",
   "name": "python",
   "nbconvert_exporter": "python",
   "pygments_lexer": "ipython3",
   "version": "3.7.4"
  }
 },
 "nbformat": 4,
 "nbformat_minor": 2
}
